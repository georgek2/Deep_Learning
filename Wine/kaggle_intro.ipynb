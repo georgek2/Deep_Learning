{
 "cells": [
  {
   "cell_type": "code",
   "execution_count": 17,
   "metadata": {},
   "outputs": [],
   "source": [
    "import numpy as np\n",
    "import pandas as pd\n",
    "\n",
    "from tensorflow import keras\n",
    "from tensorflow.keras import layers, callbacks\n",
    "\n",
    "# from Ipython.display import display"
   ]
  },
  {
   "cell_type": "code",
   "execution_count": 2,
   "metadata": {},
   "outputs": [
    {
     "data": {
      "text/html": [
       "<div>\n",
       "<style scoped>\n",
       "    .dataframe tbody tr th:only-of-type {\n",
       "        vertical-align: middle;\n",
       "    }\n",
       "\n",
       "    .dataframe tbody tr th {\n",
       "        vertical-align: top;\n",
       "    }\n",
       "\n",
       "    .dataframe thead th {\n",
       "        text-align: right;\n",
       "    }\n",
       "</style>\n",
       "<table border=\"1\" class=\"dataframe\">\n",
       "  <thead>\n",
       "    <tr style=\"text-align: right;\">\n",
       "      <th></th>\n",
       "      <th>fixed acidity</th>\n",
       "      <th>volatile acidity</th>\n",
       "      <th>citric acid</th>\n",
       "      <th>residual sugar</th>\n",
       "      <th>chlorides</th>\n",
       "      <th>free sulfur dioxide</th>\n",
       "      <th>total sulfur dioxide</th>\n",
       "      <th>density</th>\n",
       "      <th>pH</th>\n",
       "      <th>sulphates</th>\n",
       "      <th>alcohol</th>\n",
       "      <th>quality</th>\n",
       "    </tr>\n",
       "  </thead>\n",
       "  <tbody>\n",
       "    <tr>\n",
       "      <th>0</th>\n",
       "      <td>7.4</td>\n",
       "      <td>0.70</td>\n",
       "      <td>0.00</td>\n",
       "      <td>1.9</td>\n",
       "      <td>0.076</td>\n",
       "      <td>11.0</td>\n",
       "      <td>34.0</td>\n",
       "      <td>0.9978</td>\n",
       "      <td>3.51</td>\n",
       "      <td>0.56</td>\n",
       "      <td>9.4</td>\n",
       "      <td>5</td>\n",
       "    </tr>\n",
       "    <tr>\n",
       "      <th>1</th>\n",
       "      <td>7.8</td>\n",
       "      <td>0.88</td>\n",
       "      <td>0.00</td>\n",
       "      <td>2.6</td>\n",
       "      <td>0.098</td>\n",
       "      <td>25.0</td>\n",
       "      <td>67.0</td>\n",
       "      <td>0.9968</td>\n",
       "      <td>3.20</td>\n",
       "      <td>0.68</td>\n",
       "      <td>9.8</td>\n",
       "      <td>5</td>\n",
       "    </tr>\n",
       "    <tr>\n",
       "      <th>2</th>\n",
       "      <td>7.8</td>\n",
       "      <td>0.76</td>\n",
       "      <td>0.04</td>\n",
       "      <td>2.3</td>\n",
       "      <td>0.092</td>\n",
       "      <td>15.0</td>\n",
       "      <td>54.0</td>\n",
       "      <td>0.9970</td>\n",
       "      <td>3.26</td>\n",
       "      <td>0.65</td>\n",
       "      <td>9.8</td>\n",
       "      <td>5</td>\n",
       "    </tr>\n",
       "  </tbody>\n",
       "</table>\n",
       "</div>"
      ],
      "text/plain": [
       "   fixed acidity  volatile acidity  citric acid  residual sugar  chlorides  \\\n",
       "0            7.4              0.70         0.00             1.9      0.076   \n",
       "1            7.8              0.88         0.00             2.6      0.098   \n",
       "2            7.8              0.76         0.04             2.3      0.092   \n",
       "\n",
       "   free sulfur dioxide  total sulfur dioxide  density    pH  sulphates  \\\n",
       "0                 11.0                  34.0   0.9978  3.51       0.56   \n",
       "1                 25.0                  67.0   0.9968  3.20       0.68   \n",
       "2                 15.0                  54.0   0.9970  3.26       0.65   \n",
       "\n",
       "   alcohol  quality  \n",
       "0      9.4        5  \n",
       "1      9.8        5  \n",
       "2      9.8        5  "
      ]
     },
     "execution_count": 2,
     "metadata": {},
     "output_type": "execute_result"
    }
   ],
   "source": [
    "data = pd.read_csv('winequality-red.csv', sep=';')\n",
    "data.head(3)"
   ]
  },
  {
   "cell_type": "code",
   "execution_count": 3,
   "metadata": {},
   "outputs": [
    {
     "data": {
      "text/plain": [
       "(1599, 12)"
      ]
     },
     "execution_count": 3,
     "metadata": {},
     "output_type": "execute_result"
    }
   ],
   "source": [
    "data.shape"
   ]
  },
  {
   "cell_type": "code",
   "execution_count": 4,
   "metadata": {},
   "outputs": [
    {
     "data": {
      "text/plain": [
       "Index(['fixed acidity', 'volatile acidity', 'citric acid', 'residual sugar',\n",
       "       'chlorides', 'free sulfur dioxide', 'total sulfur dioxide', 'density',\n",
       "       'pH', 'sulphates', 'alcohol'],\n",
       "      dtype='object')"
      ]
     },
     "execution_count": 4,
     "metadata": {},
     "output_type": "execute_result"
    }
   ],
   "source": [
    "features = data.columns.drop('quality')\n",
    "features"
   ]
  },
  {
   "cell_type": "code",
   "execution_count": 5,
   "metadata": {},
   "outputs": [
    {
     "data": {
      "text/plain": [
       "(1119, 12)"
      ]
     },
     "execution_count": 5,
     "metadata": {},
     "output_type": "execute_result"
    }
   ],
   "source": [
    "# Splitting the train and validation sets\n",
    "df_train = data.sample(frac=0.7, random_state=0)\n",
    "df_train.shape"
   ]
  },
  {
   "cell_type": "code",
   "execution_count": 6,
   "metadata": {},
   "outputs": [
    {
     "data": {
      "text/plain": [
       "(480, 12)"
      ]
     },
     "execution_count": 6,
     "metadata": {},
     "output_type": "execute_result"
    }
   ],
   "source": [
    "df_valid = data.drop(df_train.index)\n",
    "df_valid.shape"
   ]
  },
  {
   "cell_type": "markdown",
   "metadata": {},
   "source": [
    "## Data Transformation\n",
    "> Scaling [0, 1]"
   ]
  },
  {
   "cell_type": "code",
   "execution_count": 7,
   "metadata": {},
   "outputs": [
    {
     "data": {
      "text/plain": [
       "fixed acidity            15.9000\n",
       "volatile acidity          1.5800\n",
       "citric acid               0.7900\n",
       "residual sugar           13.9000\n",
       "chlorides                 0.6110\n",
       "free sulfur dioxide      72.0000\n",
       "total sulfur dioxide    289.0000\n",
       "density                   1.0032\n",
       "pH                        3.9000\n",
       "sulphates                 1.9800\n",
       "alcohol                  14.9000\n",
       "quality                   8.0000\n",
       "dtype: float64"
      ]
     },
     "execution_count": 7,
     "metadata": {},
     "output_type": "execute_result"
    }
   ],
   "source": [
    "max_ = df_train.max(axis=0)\n",
    "min_ = df_train.min(axis=0)\n",
    "\n",
    "max_"
   ]
  },
  {
   "cell_type": "code",
   "execution_count": 8,
   "metadata": {},
   "outputs": [
    {
     "data": {
      "text/html": [
       "<div>\n",
       "<style scoped>\n",
       "    .dataframe tbody tr th:only-of-type {\n",
       "        vertical-align: middle;\n",
       "    }\n",
       "\n",
       "    .dataframe tbody tr th {\n",
       "        vertical-align: top;\n",
       "    }\n",
       "\n",
       "    .dataframe thead th {\n",
       "        text-align: right;\n",
       "    }\n",
       "</style>\n",
       "<table border=\"1\" class=\"dataframe\">\n",
       "  <thead>\n",
       "    <tr style=\"text-align: right;\">\n",
       "      <th></th>\n",
       "      <th>fixed acidity</th>\n",
       "      <th>volatile acidity</th>\n",
       "      <th>citric acid</th>\n",
       "      <th>residual sugar</th>\n",
       "      <th>chlorides</th>\n",
       "      <th>free sulfur dioxide</th>\n",
       "      <th>total sulfur dioxide</th>\n",
       "      <th>density</th>\n",
       "      <th>pH</th>\n",
       "      <th>sulphates</th>\n",
       "      <th>alcohol</th>\n",
       "      <th>quality</th>\n",
       "    </tr>\n",
       "  </thead>\n",
       "  <tbody>\n",
       "    <tr>\n",
       "      <th>1109</th>\n",
       "      <td>0.548673</td>\n",
       "      <td>0.239726</td>\n",
       "      <td>0.544304</td>\n",
       "      <td>0.092308</td>\n",
       "      <td>0.237435</td>\n",
       "      <td>0.366197</td>\n",
       "      <td>0.212014</td>\n",
       "      <td>0.619193</td>\n",
       "      <td>0.291262</td>\n",
       "      <td>0.260606</td>\n",
       "      <td>0.369231</td>\n",
       "      <td>0.6</td>\n",
       "    </tr>\n",
       "    <tr>\n",
       "      <th>1032</th>\n",
       "      <td>0.309735</td>\n",
       "      <td>0.479452</td>\n",
       "      <td>0.000000</td>\n",
       "      <td>0.246154</td>\n",
       "      <td>0.105719</td>\n",
       "      <td>0.056338</td>\n",
       "      <td>0.028269</td>\n",
       "      <td>0.645088</td>\n",
       "      <td>0.475728</td>\n",
       "      <td>0.121212</td>\n",
       "      <td>0.184615</td>\n",
       "      <td>0.4</td>\n",
       "    </tr>\n",
       "    <tr>\n",
       "      <th>1002</th>\n",
       "      <td>0.398230</td>\n",
       "      <td>0.116438</td>\n",
       "      <td>0.417722</td>\n",
       "      <td>0.088462</td>\n",
       "      <td>0.050260</td>\n",
       "      <td>0.169014</td>\n",
       "      <td>0.074205</td>\n",
       "      <td>0.387662</td>\n",
       "      <td>0.378641</td>\n",
       "      <td>0.309091</td>\n",
       "      <td>0.507692</td>\n",
       "      <td>0.8</td>\n",
       "    </tr>\n",
       "    <tr>\n",
       "      <th>487</th>\n",
       "      <td>0.495575</td>\n",
       "      <td>0.359589</td>\n",
       "      <td>0.455696</td>\n",
       "      <td>0.069231</td>\n",
       "      <td>0.032929</td>\n",
       "      <td>0.056338</td>\n",
       "      <td>0.028269</td>\n",
       "      <td>0.619193</td>\n",
       "      <td>0.291262</td>\n",
       "      <td>0.054545</td>\n",
       "      <td>0.246154</td>\n",
       "      <td>0.6</td>\n",
       "    </tr>\n",
       "    <tr>\n",
       "      <th>979</th>\n",
       "      <td>0.672566</td>\n",
       "      <td>0.226027</td>\n",
       "      <td>0.620253</td>\n",
       "      <td>0.038462</td>\n",
       "      <td>0.071057</td>\n",
       "      <td>0.028169</td>\n",
       "      <td>0.000000</td>\n",
       "      <td>0.520183</td>\n",
       "      <td>0.252427</td>\n",
       "      <td>0.181818</td>\n",
       "      <td>0.307692</td>\n",
       "      <td>0.4</td>\n",
       "    </tr>\n",
       "  </tbody>\n",
       "</table>\n",
       "</div>"
      ],
      "text/plain": [
       "      fixed acidity  volatile acidity  citric acid  residual sugar  chlorides  \\\n",
       "1109       0.548673          0.239726     0.544304        0.092308   0.237435   \n",
       "1032       0.309735          0.479452     0.000000        0.246154   0.105719   \n",
       "1002       0.398230          0.116438     0.417722        0.088462   0.050260   \n",
       "487        0.495575          0.359589     0.455696        0.069231   0.032929   \n",
       "979        0.672566          0.226027     0.620253        0.038462   0.071057   \n",
       "\n",
       "      free sulfur dioxide  total sulfur dioxide   density        pH  \\\n",
       "1109             0.366197              0.212014  0.619193  0.291262   \n",
       "1032             0.056338              0.028269  0.645088  0.475728   \n",
       "1002             0.169014              0.074205  0.387662  0.378641   \n",
       "487              0.056338              0.028269  0.619193  0.291262   \n",
       "979              0.028169              0.000000  0.520183  0.252427   \n",
       "\n",
       "      sulphates   alcohol  quality  \n",
       "1109   0.260606  0.369231      0.6  \n",
       "1032   0.121212  0.184615      0.4  \n",
       "1002   0.309091  0.507692      0.8  \n",
       "487    0.054545  0.246154      0.6  \n",
       "979    0.181818  0.307692      0.4  "
      ]
     },
     "execution_count": 8,
     "metadata": {},
     "output_type": "execute_result"
    }
   ],
   "source": [
    "df_train = (df_train - min_) / (max_ - min_)\n",
    "df_valid = (df_valid - min_) / (max_ - min_)\n",
    "df_train.head()"
   ]
  },
  {
   "cell_type": "code",
   "execution_count": 9,
   "metadata": {},
   "outputs": [],
   "source": [
    "X_train = df_train.drop('quality', axis=1)\n",
    "X_valid = df_valid.drop('quality', axis=1)\n",
    "\n",
    "y_train = df_train.quality\n",
    "y_valid = df_valid.quality"
   ]
  },
  {
   "cell_type": "code",
   "execution_count": 10,
   "metadata": {},
   "outputs": [
    {
     "name": "stdout",
     "output_type": "stream",
     "text": [
      "WARNING:tensorflow:From C:\\Users\\georg\\anaconda3\\lib\\site-packages\\tensorflow\\python\\ops\\init_ops.py:1251: calling VarianceScaling.__init__ (from tensorflow.python.ops.init_ops) with dtype is deprecated and will be removed in a future version.\n",
      "Instructions for updating:\n",
      "Call initializer instance with the dtype argument instead of passing it to the constructor\n"
     ]
    }
   ],
   "source": [
    "model = keras.Sequential([\n",
    "    layers.Dense(248, activation='relu', input_shape=[11]),\n",
    "    layers.Dense(248, activation='relu'),\n",
    "    layers.Dense(1)\n",
    "])"
   ]
  },
  {
   "cell_type": "code",
   "execution_count": 11,
   "metadata": {},
   "outputs": [],
   "source": [
    "early_stopping = callbacks.EarlyStopping(\n",
    "    min_delta = 0.001, # Minimum expected change\n",
    "    patience = 20, # Epochs to wait before stopping if improvement has not happened \n",
    "    restore_best_weights=True # Restore the best weights with the minimum loss\n",
    ")"
   ]
  },
  {
   "cell_type": "code",
   "execution_count": 12,
   "metadata": {},
   "outputs": [],
   "source": [
    "model.compile(optimizer='adam', loss='mae')"
   ]
  },
  {
   "cell_type": "code",
   "execution_count": 13,
   "metadata": {},
   "outputs": [
    {
     "name": "stdout",
     "output_type": "stream",
     "text": [
      "Train on 1119 samples, validate on 480 samples\n",
      "Epoch 1/500\n",
      "1119/1119 [==============================] - 0s 211us/sample - loss: 0.3434 - val_loss: 0.1545\n",
      "Epoch 2/500\n",
      "1119/1119 [==============================] - 0s 30us/sample - loss: 0.1784 - val_loss: 0.1573\n",
      "Epoch 3/500\n",
      "1119/1119 [==============================] - 0s 32us/sample - loss: 0.1383 - val_loss: 0.1480\n",
      "Epoch 4/500\n",
      "1119/1119 [==============================] - 0s 33us/sample - loss: 0.1411 - val_loss: 0.1360\n",
      "Epoch 5/500\n",
      "1119/1119 [==============================] - 0s 31us/sample - loss: 0.1229 - val_loss: 0.1214\n",
      "Epoch 6/500\n",
      "1119/1119 [==============================] - 0s 29us/sample - loss: 0.1200 - val_loss: 0.1134\n",
      "Epoch 7/500\n",
      "1119/1119 [==============================] - 0s 32us/sample - loss: 0.1123 - val_loss: 0.1137\n",
      "Epoch 8/500\n",
      "1119/1119 [==============================] - 0s 31us/sample - loss: 0.1107 - val_loss: 0.1065\n",
      "Epoch 9/500\n",
      "1119/1119 [==============================] - 0s 32us/sample - loss: 0.1082 - val_loss: 0.1073\n",
      "Epoch 10/500\n",
      "1119/1119 [==============================] - 0s 31us/sample - loss: 0.1061 - val_loss: 0.1031\n",
      "Epoch 11/500\n",
      "1119/1119 [==============================] - 0s 29us/sample - loss: 0.1056 - val_loss: 0.1040\n",
      "Epoch 12/500\n",
      "1119/1119 [==============================] - 0s 32us/sample - loss: 0.1037 - val_loss: 0.1012\n",
      "Epoch 13/500\n",
      "1119/1119 [==============================] - 0s 38us/sample - loss: 0.1027 - val_loss: 0.1015\n",
      "Epoch 14/500\n",
      "1119/1119 [==============================] - 0s 33us/sample - loss: 0.1014 - val_loss: 0.1019\n",
      "Epoch 15/500\n",
      "1119/1119 [==============================] - 0s 34us/sample - loss: 0.1004 - val_loss: 0.1005\n",
      "Epoch 16/500\n",
      "1119/1119 [==============================] - 0s 29us/sample - loss: 0.0998 - val_loss: 0.1012\n",
      "Epoch 17/500\n",
      "1119/1119 [==============================] - 0s 32us/sample - loss: 0.0990 - val_loss: 0.0995\n",
      "Epoch 18/500\n",
      "1119/1119 [==============================] - 0s 31us/sample - loss: 0.0981 - val_loss: 0.0986\n",
      "Epoch 19/500\n",
      "1119/1119 [==============================] - 0s 33us/sample - loss: 0.0977 - val_loss: 0.1007\n",
      "Epoch 20/500\n",
      "1119/1119 [==============================] - 0s 30us/sample - loss: 0.0972 - val_loss: 0.1006\n",
      "Epoch 21/500\n",
      "1119/1119 [==============================] - 0s 32us/sample - loss: 0.0970 - val_loss: 0.0995\n",
      "Epoch 22/500\n",
      "1119/1119 [==============================] - 0s 31us/sample - loss: 0.0970 - val_loss: 0.1020\n",
      "Epoch 23/500\n",
      "1119/1119 [==============================] - 0s 34us/sample - loss: 0.0949 - val_loss: 0.0978\n",
      "Epoch 24/500\n",
      "1119/1119 [==============================] - 0s 31us/sample - loss: 0.0946 - val_loss: 0.1008\n",
      "Epoch 25/500\n",
      "1119/1119 [==============================] - 0s 30us/sample - loss: 0.0946 - val_loss: 0.0986\n",
      "Epoch 26/500\n",
      "1119/1119 [==============================] - 0s 30us/sample - loss: 0.0943 - val_loss: 0.0977\n",
      "Epoch 27/500\n",
      "1119/1119 [==============================] - 0s 33us/sample - loss: 0.0935 - val_loss: 0.0975\n",
      "Epoch 28/500\n",
      "1119/1119 [==============================] - 0s 32us/sample - loss: 0.0941 - val_loss: 0.1024\n",
      "Epoch 29/500\n",
      "1119/1119 [==============================] - 0s 31us/sample - loss: 0.0958 - val_loss: 0.0998\n",
      "Epoch 30/500\n",
      "1119/1119 [==============================] - 0s 31us/sample - loss: 0.0943 - val_loss: 0.0969\n",
      "Epoch 31/500\n",
      "1119/1119 [==============================] - 0s 33us/sample - loss: 0.0935 - val_loss: 0.1014\n",
      "Epoch 32/500\n",
      "1119/1119 [==============================] - 0s 35us/sample - loss: 0.0925 - val_loss: 0.0966\n",
      "Epoch 33/500\n",
      "1119/1119 [==============================] - 0s 30us/sample - loss: 0.0922 - val_loss: 0.0973\n",
      "Epoch 34/500\n",
      "1119/1119 [==============================] - 0s 34us/sample - loss: 0.0909 - val_loss: 0.0982\n",
      "Epoch 35/500\n",
      "1119/1119 [==============================] - 0s 33us/sample - loss: 0.0910 - val_loss: 0.0963\n",
      "Epoch 36/500\n",
      "1119/1119 [==============================] - 0s 30us/sample - loss: 0.0898 - val_loss: 0.0980\n",
      "Epoch 37/500\n",
      "1119/1119 [==============================] - 0s 31us/sample - loss: 0.0897 - val_loss: 0.0964\n",
      "Epoch 38/500\n",
      "1119/1119 [==============================] - 0s 33us/sample - loss: 0.0892 - val_loss: 0.0971\n",
      "Epoch 39/500\n",
      "1119/1119 [==============================] - 0s 34us/sample - loss: 0.0912 - val_loss: 0.1006\n",
      "Epoch 40/500\n",
      "1119/1119 [==============================] - 0s 31us/sample - loss: 0.0897 - val_loss: 0.0971\n",
      "Epoch 41/500\n",
      "1119/1119 [==============================] - 0s 38us/sample - loss: 0.0896 - val_loss: 0.0943\n",
      "Epoch 42/500\n",
      "1119/1119 [==============================] - 0s 36us/sample - loss: 0.0893 - val_loss: 0.0962\n",
      "Epoch 43/500\n",
      "1119/1119 [==============================] - 0s 32us/sample - loss: 0.0909 - val_loss: 0.0980\n",
      "Epoch 44/500\n",
      "1119/1119 [==============================] - 0s 31us/sample - loss: 0.0882 - val_loss: 0.0963\n",
      "Epoch 45/500\n",
      "1119/1119 [==============================] - 0s 32us/sample - loss: 0.0876 - val_loss: 0.0946\n",
      "Epoch 46/500\n",
      "1119/1119 [==============================] - 0s 34us/sample - loss: 0.0873 - val_loss: 0.0939\n",
      "Epoch 47/500\n",
      "1119/1119 [==============================] - 0s 31us/sample - loss: 0.0869 - val_loss: 0.0978\n",
      "Epoch 48/500\n",
      "1119/1119 [==============================] - 0s 34us/sample - loss: 0.0874 - val_loss: 0.0950\n",
      "Epoch 49/500\n",
      "1119/1119 [==============================] - 0s 27us/sample - loss: 0.0868 - val_loss: 0.0972\n",
      "Epoch 50/500\n",
      "1119/1119 [==============================] - 0s 34us/sample - loss: 0.0872 - val_loss: 0.0950\n",
      "Epoch 51/500\n",
      "1119/1119 [==============================] - 0s 34us/sample - loss: 0.0861 - val_loss: 0.0936\n",
      "Epoch 52/500\n",
      "1119/1119 [==============================] - 0s 33us/sample - loss: 0.0858 - val_loss: 0.0945\n",
      "Epoch 53/500\n",
      "1119/1119 [==============================] - 0s 32us/sample - loss: 0.0857 - val_loss: 0.0955\n",
      "Epoch 54/500\n",
      "1119/1119 [==============================] - 0s 31us/sample - loss: 0.0873 - val_loss: 0.0940\n",
      "Epoch 55/500\n",
      "1119/1119 [==============================] - 0s 34us/sample - loss: 0.0853 - val_loss: 0.0942\n",
      "Epoch 56/500\n",
      "1119/1119 [==============================] - 0s 34us/sample - loss: 0.0857 - val_loss: 0.0942\n",
      "Epoch 57/500\n",
      "1119/1119 [==============================] - 0s 35us/sample - loss: 0.0854 - val_loss: 0.0934\n",
      "Epoch 58/500\n",
      "1119/1119 [==============================] - 0s 39us/sample - loss: 0.0853 - val_loss: 0.0933\n",
      "Epoch 59/500\n",
      "1119/1119 [==============================] - 0s 34us/sample - loss: 0.0856 - val_loss: 0.0954\n",
      "Epoch 60/500\n",
      "1119/1119 [==============================] - 0s 36us/sample - loss: 0.0865 - val_loss: 0.0930\n",
      "Epoch 61/500\n",
      "1119/1119 [==============================] - 0s 32us/sample - loss: 0.0865 - val_loss: 0.1029\n",
      "Epoch 62/500\n",
      "1119/1119 [==============================] - 0s 30us/sample - loss: 0.0883 - val_loss: 0.0951\n",
      "Epoch 63/500\n",
      "1119/1119 [==============================] - 0s 33us/sample - loss: 0.0848 - val_loss: 0.0941\n",
      "Epoch 64/500\n",
      "1119/1119 [==============================] - 0s 35us/sample - loss: 0.0840 - val_loss: 0.0942\n",
      "Epoch 65/500\n",
      "1119/1119 [==============================] - 0s 35us/sample - loss: 0.0839 - val_loss: 0.0938\n",
      "Epoch 66/500\n",
      "1119/1119 [==============================] - 0s 34us/sample - loss: 0.0834 - val_loss: 0.0934\n",
      "Epoch 67/500\n",
      "1119/1119 [==============================] - 0s 33us/sample - loss: 0.0847 - val_loss: 0.0934\n",
      "Epoch 68/500\n",
      "1119/1119 [==============================] - 0s 38us/sample - loss: 0.0866 - val_loss: 0.0955\n",
      "Epoch 69/500\n",
      "1119/1119 [==============================] - 0s 32us/sample - loss: 0.0851 - val_loss: 0.0983\n",
      "Epoch 70/500\n",
      "1119/1119 [==============================] - 0s 32us/sample - loss: 0.0852 - val_loss: 0.0967\n",
      "Epoch 71/500\n",
      "1119/1119 [==============================] - 0s 31us/sample - loss: 0.0837 - val_loss: 0.0936\n",
      "Epoch 72/500\n",
      "1119/1119 [==============================] - 0s 30us/sample - loss: 0.0826 - val_loss: 0.0927\n",
      "Epoch 73/500\n",
      "1119/1119 [==============================] - 0s 35us/sample - loss: 0.0821 - val_loss: 0.0939\n",
      "Epoch 74/500\n",
      "1119/1119 [==============================] - 0s 31us/sample - loss: 0.0814 - val_loss: 0.0936\n",
      "Epoch 75/500\n",
      "1119/1119 [==============================] - 0s 37us/sample - loss: 0.0816 - val_loss: 0.0941\n",
      "Epoch 76/500\n",
      "1119/1119 [==============================] - 0s 30us/sample - loss: 0.0844 - val_loss: 0.0952\n",
      "Epoch 77/500\n"
     ]
    },
    {
     "name": "stdout",
     "output_type": "stream",
     "text": [
      "1119/1119 [==============================] - 0s 34us/sample - loss: 0.0851 - val_loss: 0.0947\n",
      "Epoch 78/500\n",
      "1119/1119 [==============================] - 0s 70us/sample - loss: 0.0844 - val_loss: 0.0997\n"
     ]
    }
   ],
   "source": [
    "history = model.fit(X_train, y_train,\n",
    "                   validation_data = (X_valid, y_valid),\n",
    "                   batch_size = 256,\n",
    "                   epochs = 500,\n",
    "                   callbacks = [early_stopping], # Callbacks in a list\n",
    "                   verbose = True) # Turn off training log"
   ]
  },
  {
   "cell_type": "code",
   "execution_count": 14,
   "metadata": {},
   "outputs": [
    {
     "data": {
      "text/html": [
       "<div>\n",
       "<style scoped>\n",
       "    .dataframe tbody tr th:only-of-type {\n",
       "        vertical-align: middle;\n",
       "    }\n",
       "\n",
       "    .dataframe tbody tr th {\n",
       "        vertical-align: top;\n",
       "    }\n",
       "\n",
       "    .dataframe thead th {\n",
       "        text-align: right;\n",
       "    }\n",
       "</style>\n",
       "<table border=\"1\" class=\"dataframe\">\n",
       "  <thead>\n",
       "    <tr style=\"text-align: right;\">\n",
       "      <th></th>\n",
       "      <th>loss</th>\n",
       "      <th>val_loss</th>\n",
       "    </tr>\n",
       "  </thead>\n",
       "  <tbody>\n",
       "    <tr>\n",
       "      <th>0</th>\n",
       "      <td>0.343432</td>\n",
       "      <td>0.154521</td>\n",
       "    </tr>\n",
       "    <tr>\n",
       "      <th>1</th>\n",
       "      <td>0.178365</td>\n",
       "      <td>0.157260</td>\n",
       "    </tr>\n",
       "    <tr>\n",
       "      <th>2</th>\n",
       "      <td>0.138295</td>\n",
       "      <td>0.148033</td>\n",
       "    </tr>\n",
       "    <tr>\n",
       "      <th>3</th>\n",
       "      <td>0.141065</td>\n",
       "      <td>0.136002</td>\n",
       "    </tr>\n",
       "    <tr>\n",
       "      <th>4</th>\n",
       "      <td>0.122899</td>\n",
       "      <td>0.121447</td>\n",
       "    </tr>\n",
       "  </tbody>\n",
       "</table>\n",
       "</div>"
      ],
      "text/plain": [
       "       loss  val_loss\n",
       "0  0.343432  0.154521\n",
       "1  0.178365  0.157260\n",
       "2  0.138295  0.148033\n",
       "3  0.141065  0.136002\n",
       "4  0.122899  0.121447"
      ]
     },
     "execution_count": 14,
     "metadata": {},
     "output_type": "execute_result"
    }
   ],
   "source": [
    "history_df = pd.DataFrame(history.history)\n",
    "history_df.head()"
   ]
  },
  {
   "cell_type": "code",
   "execution_count": 15,
   "metadata": {},
   "outputs": [
    {
     "data": {
      "text/plain": [
       "<matplotlib.axes._subplots.AxesSubplot at 0x232e97b42c8>"
      ]
     },
     "execution_count": 15,
     "metadata": {},
     "output_type": "execute_result"
    },
    {
     "data": {
      "image/png": "[encoded data removed]",
      "text/plain": [
       "<Figure size 432x288 with 1 Axes>"
      ]
     },
     "metadata": {
      "needs_background": "light"
     },
     "output_type": "display_data"
    }
   ],
   "source": [
    "history_df.loc[:, ['loss', 'val_loss']].plot()"
   ]
  },
  {
   "cell_type": "code",
   "execution_count": 16,
   "metadata": {},
   "outputs": [
    {
     "name": "stdout",
     "output_type": "stream",
     "text": [
      "Minimum Validaton Loss : 0.0927398274342219\n"
     ]
    }
   ],
   "source": [
    "print(f\"Minimum Validaton Loss : {history_df.val_loss.min()}\")"
   ]
  },
  {
   "cell_type": "code",
   "execution_count": null,
   "metadata": {},
   "outputs": [],
   "source": []
  }
 ],
 "metadata": {
  "kernelspec": {
   "display_name": "Python 3",
   "language": "python",
   "name": "python3"
  },
  "language_info": {
   "codemirror_mode": {
    "name": "ipython",
    "version": 3
   },
   "file_extension": ".py",
   "mimetype": "text/x-python",
   "name": "python",
   "nbconvert_exporter": "python",
   "pygments_lexer": "ipython3",
   "version": "3.7.6"
  }
 },
 "nbformat": 4,
 "nbformat_minor": 4
}
